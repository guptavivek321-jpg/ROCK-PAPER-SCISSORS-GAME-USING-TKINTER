{
 "cells": [
  {
   "cell_type": "markdown",
   "id": "ac63f8f2-d7cc-41aa-a080-238a6cfeae71",
   "metadata": {},
   "source": [
    "# ROCK PAPER SCISSORS GAME USING TKINTER"
   ]
  },
  {
   "cell_type": "code",
   "execution_count": null,
   "id": "2d637705-0719-46ea-abfd-837638436617",
   "metadata": {},
   "outputs": [],
   "source": [
    "import tkinter as tk\n",
    "import random\n",
    "\n",
    "score1 = {\"tie\": 0, \"win\": 0, \"loss\": 0}\n",
    "score2 = {\"tie\": 0, \"win\": 0, \"loss\": 0}\n",
    "\n",
    "moves = [\"rock\", \"paper\", \"scissor\"]\n",
    "\n",
    "def play_game(player_move):\n",
    "    computer_move = random.choice(moves)\n",
    "    lbl_computer.config(text=f\"Computer Move: {computer_move}\")\n",
    "\n",
    "    if player_move == computer_move:\n",
    "        result = \"Tie\"\n",
    "        score1[\"tie\"] += 1\n",
    "        score2[\"tie\"] += 1\n",
    "    elif (computer_move == \"rock\" and player_move == \"paper\") or \\\n",
    "         (computer_move == \"paper\" and player_move == \"scissor\") or \\\n",
    "         (computer_move == \"scissor\" and player_move == \"rock\"):\n",
    "        result = \"You Win!\"\n",
    "        score2[\"win\"] += 1\n",
    "        score1[\"loss\"] += 1\n",
    "    else:\n",
    "        result = \"Computer Wins!\"\n",
    "        score1[\"win\"] += 1\n",
    "        score2[\"loss\"] += 1\n",
    "\n",
    "    lbl_result.config(text=f\"Result: {result}\")\n",
    "\n",
    "def show_results():\n",
    "    result_window = tk.Toplevel(window)\n",
    "    result_window.title(\"Game Results\")\n",
    "    tk.Label(result_window, text=f\"Computer: {score1}\").pack(pady=5)\n",
    "    tk.Label(result_window, text=f\"Player: {score2}\").pack(pady=5)\n",
    "\n",
    "def quit_game():\n",
    "    with open(\"gameresult.txt\", \"w\") as game:\n",
    "        game.write(str(score1) + \"\\n\" + str(score2))\n",
    "    window.destroy()\n",
    "\n",
    "window = tk.Tk()\n",
    "window.title(\"Rock Paper Scissors\")\n",
    "window.geometry(\"300x300\")\n",
    "\n",
    "tk.Label(window, text=\"Choose Your Move\", font=(\"Arial\", 14)).pack(pady=10)\n",
    "\n",
    "frame = tk.Frame(window)\n",
    "frame.pack()\n",
    "\n",
    "tk.Button(frame, text=\"Rock\", width=10, command=lambda: play_game(\"rock\")).grid(row=0, column=0, padx=5)\n",
    "tk.Button(frame, text=\"Paper\", width=10, command=lambda: play_game(\"paper\")).grid(row=0, column=1, padx=5)\n",
    "tk.Button(frame, text=\"Scissor\", width=10, command=lambda: play_game(\"scissor\")).grid(row=0, column=2, padx=5)\n",
    "\n",
    "lbl_computer = tk.Label(window, text=\"Computer Move: \", font=(\"Arial\", 12))\n",
    "lbl_computer.pack(pady=5)\n",
    "\n",
    "lbl_result = tk.Label(window, text=\"Result: \", font=(\"Arial\", 12))\n",
    "lbl_result.pack(pady=5)\n",
    "\n",
    "tk.Button(window, text=\"Show Results\", command=show_results).pack(pady=5)\n",
    "tk.Button(window, text=\"Quit\", command=quit_game).pack(pady=5)\n",
    "\n",
    "window.mainloop()"
   ]
  }
 ],
 "metadata": {
  "kernelspec": {
   "display_name": "Python 3 (ipykernel)",
   "language": "python",
   "name": "python3"
  },
  "language_info": {
   "codemirror_mode": {
    "name": "ipython",
    "version": 3
   },
   "file_extension": ".py",
   "mimetype": "text/x-python",
   "name": "python",
   "nbconvert_exporter": "python",
   "pygments_lexer": "ipython3",
   "version": "3.13.5"
  }
 },
 "nbformat": 4,
 "nbformat_minor": 5
}
